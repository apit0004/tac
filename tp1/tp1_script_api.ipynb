{
 "cells": [
  {
   "cell_type": "markdown",
   "metadata": {},
   "source": [
    "## API: TextBlob\n",
    "https://textblob.readthedocs.io/en/stable/\n",
    "\n",
    "Prise en charge de la langue française pour TextBlob :\n",
    "https://pypi.org/project/textblob-fr/"
   ]
  },
  {
   "cell_type": "markdown",
   "metadata": {},
   "source": [
    "## Imports"
   ]
  },
  {
   "cell_type": "code",
   "execution_count": 2,
   "metadata": {},
   "outputs": [],
   "source": [
    "\"\"\"\n",
    "json aide à transformer les données entre un format Python et un format que les serveurs web comprennent;\n",
    "c'est pour l'échange de données entre un serveur et une application web.\n",
    "\"\"\"\n",
    "\n",
    "import json \n",
    "\n",
    "\n",
    "import requests\n",
    "\n",
    "\"\"\"\n",
    "requests est une bibliothèque permettant à Python d'envoyer des requêtes HTTP et \n",
    "d'interagir avec des APIs ou des sites web en envoyant des demandes et \n",
    "en récupérant des réponses.\n",
    "\"\"\"\n",
    "\n",
    "from textblob import Blobber\n",
    "from textblob_fr import PatternTagger, PatternAnalyzer \n",
    "\n",
    "# PatternTagger = Part-of-speech tagging\n",
    "# PatternAnalyzer = Sentiment analysis"
   ]
  },
  {
   "cell_type": "markdown",
   "metadata": {},
   "source": [
    "## Analyser les sentiments avec TextBlob\n",
    "Utiliser TextBlob pour effectuer une analyse des sentiments sur deux paragraphes distincts, tirés d'un article contenu dans CAMille. L'article en question étant le fichier intitulé \"KB_JB92_1860-02-09_01-00003.pdf\"."
   ]
  },
  {
   "cell_type": "code",
   "execution_count": 3,
   "metadata": {},
   "outputs": [
    {
     "name": "stdout",
     "output_type": "stream",
     "text": [
      "Texte: ANGLETERRE. Voici en quels termes le Morning-Post annonce l'ajournement de l'exposé financier de M. Gladstone : Nous sommes priés d'annoncer que le chancelier de l'échiquier a été alité depuis le conseil de cabinet de vendredi. Dans ces circonstances, son médecin a cru devoir lui conseiller de ne pas s'occuper des affaires pendant un jour ou deux ; mais jeudi ou vendredi, M. Gladstone espère pouvoir présenter son exposé financier à la Chambre des communes.\n",
      "Sentiment Polarity: -0.10999999999999999\n",
      "Sentiment Subjectivity: 0.375\n",
      "Texte: L'honorable M. de Boe vous a parlé de ce qui se fait en France, de l'excellence des cours, qui sont très-suivis et qui ne sont pas sujets à examen. Je ne crains pas de dire que dans quelques années les cours à certificats seront les mieux donnés el auront le plus d'attrait. De plus, l'épreuve est trop courte encore pour qu'on puisse juger des résultats. S'il fallait les apprécier dès à présent, je prouverais que le système a déjà produit une grande partie des résultats qu'on en attendait.\n",
      "Sentiment Polarity: 0.18142857142857144\n",
      "Sentiment Subjectivity: 0.1857142857142857\n"
     ]
    }
   ],
   "source": [
    "# Initialisation de Blobber avec PatternTagger et PatternAnalyzer pour le français\n",
    "tb = Blobber(pos_tagger=PatternTagger(), analyzer=PatternAnalyzer())\n",
    "\n",
    "# Liste des textes à analyser\n",
    "texts = [\n",
    "    \"ANGLETERRE. Voici en quels termes le Morning-Post annonce l'ajournement de l'exposé financier de M. Gladstone : Nous sommes priés d'annoncer que le chancelier de l'échiquier a été alité depuis le conseil de cabinet de vendredi. Dans ces circonstances, son médecin a cru devoir lui conseiller de ne pas s'occuper des affaires pendant un jour ou deux ; mais jeudi ou vendredi, M. Gladstone espère pouvoir présenter son exposé financier à la Chambre des communes.\",\n",
    "    \"L'honorable M. de Boe vous a parlé de ce qui se fait en France, de l'excellence des cours, qui sont très-suivis et qui ne sont pas sujets à examen. Je ne crains pas de dire que dans quelques années les cours à certificats seront les mieux donnés el auront le plus d'attrait. De plus, l'épreuve est trop courte encore pour qu'on puisse juger des résultats. S'il fallait les apprécier dès à présent, je prouverais que le système a déjà produit une grande partie des résultats qu'on en attendait.\"\n",
    "]\n",
    "\n",
    "# Effectuer l'analyse des sentiments pour chaque texte\n",
    "for text in texts:\n",
    "    blob = tb(text)\n",
    "    sentiment_polarity = blob.sentiment[0]\n",
    "    sentiment_subjectivity = blob.sentiment[1]\n",
    "    print(f\"Texte: {text}\")\n",
    "    print(f\"Sentiment Polarity: {sentiment_polarity}\")\n",
    "    print(f\"Sentiment Subjectivity: {sentiment_subjectivity}\")\n",
    "    print\n",
    "\n",
    "    \"\"\"\n",
    "    sentiment : Renvoie un tuple de la forme (polarity, subjectivity) où polarity est un float dans la plage [-1.0, 1.0] \n",
    "    et subjectivity est un float dans la plage [0.0, 1.0], où 0.0 est très objectif et 1.0 est très subjectif. \n",
    "    Le type de retour est un namedtuple de la forme Sentiment(polarity, subjectivity).\n",
    "    (https://textblob.readthedocs.io/en/stable/api_reference.html#textblob.blob.TextBlob.sentiment)\n",
    "    \"\"\"\n",
    "    "
   ]
  }
 ],
 "metadata": {
  "kernelspec": {
   "display_name": "tac_venv",
   "language": "python",
   "name": "python3"
  },
  "language_info": {
   "codemirror_mode": {
    "name": "ipython",
    "version": 3
   },
   "file_extension": ".py",
   "mimetype": "text/x-python",
   "name": "python",
   "nbconvert_exporter": "python",
   "pygments_lexer": "ipython3",
   "version": "3.12.7"
  }
 },
 "nbformat": 4,
 "nbformat_minor": 2
}
