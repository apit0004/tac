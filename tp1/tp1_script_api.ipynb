{
 "cells": [
  {
   "cell_type": "markdown",
   "metadata": {},
   "source": [
    "## APIS\n",
    "\n",
    "# TextBlob\n",
    "https://textblob.readthedocs.io/en/stable/\n",
    "\n",
    "Prise en charge de la langue française pour TextBlob :\n",
    "https://pypi.org/project/textblob-fr/\n",
    "\n",
    "# MyMemory translated\n",
    "(API REST)\n",
    "\n",
    "https://mymemory.translated.net/doc/spec.php"
   ]
  },
  {
   "cell_type": "markdown",
   "metadata": {},
   "source": [
    "## Imports"
   ]
  },
  {
   "cell_type": "code",
   "execution_count": 1,
   "metadata": {},
   "outputs": [],
   "source": [
    "\"\"\"\n",
    "json aide à transformer les données entre un format Python et un format que les serveurs web comprennent;\n",
    "c'est pour l'échange de données entre un serveur et une application web.\n",
    "\"\"\"\n",
    "\n",
    "import json \n",
    "\n",
    "\n",
    "import requests\n",
    "\n",
    "\"\"\"\n",
    "requests est une bibliothèque permettant à Python d'envoyer des requêtes HTTP et \n",
    "d'interagir avec des APIs ou des sites web en envoyant des demandes et \n",
    "en récupérant des réponses.\n",
    "\"\"\"\n",
    "\n",
    "from textblob import Blobber\n",
    "from textblob_fr import PatternTagger, PatternAnalyzer \n",
    "\n",
    "# PatternTagger = Part-of-speech tagging\n",
    "# PatternAnalyzer = Sentiment analysis"
   ]
  },
  {
   "cell_type": "markdown",
   "metadata": {},
   "source": [
    "## Analyse des sentimens sur les textes sources + traduction\n",
    "1) Utiliser TextBlob pour effectuer une analyse des sentiments sur deux paragraphes distincts, tirés d'un article contenu dans CAMille. L'article en question étant le fichier intitulé \"KB_JB92_1860-02-09_01-00003.pdf\" ;\n",
    "2) Utiliser l'API REST de MyMemory translated pour traduire les deux paragraphes."
   ]
  },
  {
   "cell_type": "code",
   "execution_count": 2,
   "metadata": {},
   "outputs": [
    {
     "name": "stdout",
     "output_type": "stream",
     "text": [
      "Texte source: ANGLETERRE. Voici en quels termes le Morning-Post annonce l'ajournement de l'exposé financier de M. Gladstone : Nous sommes priés d'annoncer que le chancelier de l'échiquier a été alité depuis le conseil de cabinet de vendredi. Dans ces circonstances, son médecin a cru devoir lui conseiller de ne pas s'occuper des affaires pendant un jour ou deux ; mais jeudi ou vendredi, M. Gladstone espère pouvoir présenter son exposé financier à la Chambre des communes.\n",
      "Sentiment | Polarité : -0.10999999999999999, Subjectivité : 0.375\n",
      "\n",
      "Texte source: L'honorable M. de Boe vous a parlé de ce qui se fait en France, de l'excellence des cours, qui sont très-suivis et qui ne sont pas sujets à examen. Je ne crains pas de dire que dans quelques années les cours à certificats seront les mieux donnés el auront le plus d'attrait. De plus, l'épreuve est trop courte encore pour qu'on puisse juger des résultats. S'il fallait les apprécier dès à présent, je prouverais que le système a déjà produit une grande partie des résultats qu'on en attendait.\n",
      "Sentiment | Polarité : 0.18142857142857144, Subjectivité : 0.1857142857142857\n",
      "\n"
     ]
    }
   ],
   "source": [
    "## ETAPE 1  > effectuer l'analyse des sentiments sur les textes sources\n",
    "\n",
    "# Initialisation de Blobber avec PatternTagger et PatternAnalyzer pour le français\n",
    "tb_fr = Blobber(pos_tagger=PatternTagger(), analyzer=PatternAnalyzer())\n",
    "\n",
    "# Liste des textes à analyser\n",
    "texts = [\n",
    "    \"ANGLETERRE. Voici en quels termes le Morning-Post annonce l'ajournement de l'exposé financier de M. Gladstone : Nous sommes priés d'annoncer que le chancelier de l'échiquier a été alité depuis le conseil de cabinet de vendredi. Dans ces circonstances, son médecin a cru devoir lui conseiller de ne pas s'occuper des affaires pendant un jour ou deux ; mais jeudi ou vendredi, M. Gladstone espère pouvoir présenter son exposé financier à la Chambre des communes.\",\n",
    "    \"L'honorable M. de Boe vous a parlé de ce qui se fait en France, de l'excellence des cours, qui sont très-suivis et qui ne sont pas sujets à examen. Je ne crains pas de dire que dans quelques années les cours à certificats seront les mieux donnés el auront le plus d'attrait. De plus, l'épreuve est trop courte encore pour qu'on puisse juger des résultats. S'il fallait les apprécier dès à présent, je prouverais que le système a déjà produit une grande partie des résultats qu'on en attendait.\"\n",
    "]\n",
    "\n",
    "# URL de l'API REST pour la traduction\n",
    "api_url = \"https://api.mymemory.translated.net/get\"\n",
    "\n",
    "# Liste pour stocker les traductions à réaliser\n",
    "traductions = []\n",
    "\n",
    "# Effectuer l'analyse des sentiments pour chaque texte (en français)\n",
    "for text in texts:\n",
    "    blob_fr = tb_fr(text)\n",
    "    sentiment_polarity_fr = blob_fr.sentiment[0]\n",
    "    sentiment_subjectivity_fr = blob_fr.sentiment[1]\n",
    "    print(f\"Texte source: {text}\")\n",
    "    print(f\"Sentiment | Polarité : {sentiment_polarity_fr}, Subjectivité : {sentiment_subjectivity_fr}\")\n",
    "    print\n",
    "    \n",
    "    \"\"\"\n",
    "    sentiment : Renvoie un tuple de la forme (polarity, subjectivity) où polarity est un float dans la plage [-1.0, 1.0] \n",
    "    et subjectivity est un float dans la plage [0.0, 1.0], où 0.0 est très objectif et 1.0 est très subjectif. \n",
    "    Le type de retour est un namedtuple de la forme Sentiment(polarity, subjectivity).\n",
    "    (https://textblob.readthedocs.io/en/stable/api_reference.html#textblob.blob.TextBlob.sentiment)\n",
    "    \"\"\"\n",
    "\n",
    "\n",
    "## ETAPE 2 > traduire les textes en anglais\n",
    "\n",
    "# Configurer les paramètres de la requête\n",
    "    params = {\n",
    "        \"q\": text, # texte à traduire\n",
    "        \"langpair\": \"fr|en\" # combinaison linguistique\n",
    "    }\n",
    "    \n",
    "    # Envoyer la requête\n",
    "    response = requests.get(api_url, params=params)\n",
    "    if response.status_code == 200: # vérifier si la requête a réussi\n",
    "        traduction = response.json()[\"responseData\"][\"translatedText\"] \n",
    "        traductions.append(traduction) # ajouter la traduction à la liste\n",
    "    else:\n",
    "        print(f\"Erreur {response.status_code}: Impossible de traduire le texte.\")\n",
    "    print()"
   ]
  },
  {
   "cell_type": "code",
   "execution_count": 3,
   "metadata": {},
   "outputs": [],
   "source": [
    "# Enregistrer les traductions dans un fichier .json (afin que les données restent accessibles pour l'autre cellule)\n",
    "with open('traductions.json', 'w') as f:\n",
    "    json.dump(traductions, f)"
   ]
  },
  {
   "cell_type": "markdown",
   "metadata": {},
   "source": [
    "## Analyse des sentiments sur les traductions"
   ]
  },
  {
   "cell_type": "code",
   "execution_count": 5,
   "metadata": {},
   "outputs": [
    {
     "name": "stdout",
     "output_type": "stream",
     "text": [
      "Texte traduit: ENGLAND. Here is how the Morning Post announces the adjournment of Mr. Gladstone's financial statement: We are asked to announce that the Chancellor of the Exchequer has been bedridden since Friday's cabinet meeting. Under these circumstances, his doctor felt it necessary to advise him not to take care of business for a day or two; but on Thursday or Friday, Mr. Gladstone hopes to be able to present his financial statement to the House of Commons.\n",
      "Sentiment | Polarity: 0.1, Subjectivity: 0.325\n",
      "Texte traduit: The Honourable Mr de Boe has spoken to you about what is being done in France, about the excellence of the courses, which are very well attended and which are not subject to examination. I am not afraid to say that in a few years the certificate courses will be the best given and will have the most appeal. In addition, the test is still too short for us to judge the results. If we were to appreciate them now, I would prove that the system has already produced much of the results expected of it.\n",
      "Sentiment | Polarity: 0.22037037037037038, Subjectivity: 0.3703703703703704\n"
     ]
    }
   ],
   "source": [
    "## ETAPE 3  > effectuer l'analyse des sentiments sur les textes cibles\n",
    "\n",
    "# Charger les traductions depuis le fichier .json\n",
    "with open('traductions.json', 'r') as f:\n",
    "    traductions = json.load(f)\n",
    "\n",
    "# Initialisation de Blobber pour l'analyse en anglais\n",
    "tb_en = Blobber()\n",
    "\n",
    "# Étape 3: Analyse des sentiments en anglais\n",
    "for traduction in traductions:\n",
    "    blob_en = tb_en(traduction)\n",
    "    sentiment_polarity_en = blob_en.sentiment[0]\n",
    "    sentiment_subjectivity_en = blob_en.sentiment[1]\n",
    "    print(f\"Texte traduit: {traduction}\")\n",
    "    print(f\"Sentiment | Polarity: {sentiment_polarity_en}, Subjectivity: {sentiment_subjectivity_en}\")\n",
    "    print"
   ]
  }
 ],
 "metadata": {
  "kernelspec": {
   "display_name": "tac_venv",
   "language": "python",
   "name": "python3"
  },
  "language_info": {
   "codemirror_mode": {
    "name": "ipython",
    "version": 3
   },
   "file_extension": ".py",
   "mimetype": "text/x-python",
   "name": "python",
   "nbconvert_exporter": "python",
   "pygments_lexer": "ipython3",
   "version": "3.12.7"
  }
 },
 "nbformat": 4,
 "nbformat_minor": 2
}
