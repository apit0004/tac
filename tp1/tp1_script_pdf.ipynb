{
 "cells": [
  {
   "cell_type": "markdown",
   "metadata": {},
   "source": [
    "## Imports"
   ]
  },
  {
   "cell_type": "code",
   "execution_count": 1,
   "metadata": {},
   "outputs": [],
   "source": [
    "\"\"\"\n",
    "os = module permettant d'utiliser les fonctionnalités dépendantes du système d'exploitation comme la lecture ou l'écriture \n",
    "dans le système de fichiers.\n",
    "\"\"\"\n",
    "import os\n",
    "\n",
    "import requests\n",
    "\"\"\"\n",
    "requests = une bibliothèque permettant à Python d'envoyer des requêtes HTTP et \n",
    "d'interagir avec des APIs ou des sites web en envoyant des demandes et \n",
    "en récupérant des réponses.\n",
    "\"\"\"\n",
    "\n",
    "from bs4 import BeautifulSoup\n",
    "\"\"\"\n",
    "BeautifulSoup = bibliothèque utilisée pour analyser des documents HTML et XML, particulièrement utile pour le web scraping.\n",
    "\"\"\"\n",
    "\n",
    "# Définir le chemin du répertoire\n",
    "tp1_path = \"../tac/tp1\"\n",
    "\n",
    "# Créer le dossier tp1 s'il n'existe pas encore\n",
    "if not os.path.exists(tp1_path): \n",
    "    os.mkdir(tp1_path)"
   ]
  },
  {
   "cell_type": "markdown",
   "metadata": {},
   "source": [
    "## Récupérer les fichiers .pdf listés sur le site"
   ]
  },
  {
   "cell_type": "code",
   "execution_count": 2,
   "metadata": {},
   "outputs": [],
   "source": [
    "# En-tête HTTP pour la requête / émuler un navigateur\n",
    "headers = {\n",
    "    'User-Agent': 'Mozilla/5.0 (Macintosh; Intel Mac OS X 10_10_1) AppleWebKit/537.36 (KHTML, like Gecko) Chrome/39.0.2171.95 Safari/537.36'\n",
    "}\n",
    "\n",
    "# Initialiser une liste pour stocker les liens des fichiers .pdf\n",
    "pdf_files = []\n",
    "\n",
    "# URL à partir duquel télécharger les fichiers .pdf\n",
    "root_url = \"https://max.de.wilde.web.ulb.be/camille/\"\n",
    "\n",
    "# Envoyer la requête HTTP à l'URL\n",
    "response = requests.get(root_url, headers=headers)\n",
    "\n",
    "# Analyser la réponse avec BeautifulSoup\n",
    "soup = BeautifulSoup(response.text, 'html.parser')\n",
    "\n",
    "# Récupérer les liens vers les fichiers .pdf\n",
    "for link in soup.find_all(\"a\", href=True):\n",
    "    href = link['href']\n",
    "    if href.endswith(\".pdf\"):\n",
    "        pdf_files.append(root_url + href)  # Construire l'URL complète et ajouter à la liste"
   ]
  },
  {
   "cell_type": "code",
   "execution_count": 3,
   "metadata": {},
   "outputs": [
    {
     "name": "stdout",
     "output_type": "stream",
     "text": [
      "51 fichiers PDF trouvés.\n"
     ]
    }
   ],
   "source": [
    "# Afficher le nombre de fichiers .pdf récupérés\n",
    "print(f\"{len(pdf_files)} fichiers PDF trouvés.\")"
   ]
  },
  {
   "cell_type": "markdown",
   "metadata": {},
   "source": [
    "## Télécharger et enregistrer chaque fichier .pdf"
   ]
  },
  {
   "cell_type": "code",
   "execution_count": 4,
   "metadata": {},
   "outputs": [
    {
     "name": "stdout",
     "output_type": "stream",
     "text": [
      "Téléchargement de KB_JB230_1892-08-07_01-0003.pdf...\n",
      "KB_JB230_1892-08-07_01-0003.pdf a été enregistré avec succès.\n",
      "Téléchargement de KB_JB427_1920-01-10_01-00004.pdf...\n",
      "KB_JB427_1920-01-10_01-00004.pdf a été enregistré avec succès.\n",
      "Téléchargement de KB_JB555_1836-02-08_01-00002.pdf...\n",
      "KB_JB555_1836-02-08_01-00002.pdf a été enregistré avec succès.\n",
      "Téléchargement de KB_JB638_1860-05-21_01-00002.pdf...\n",
      "KB_JB638_1860-05-21_01-00002.pdf a été enregistré avec succès.\n",
      "Téléchargement de KB_JB773_1918-11-30_01-00002.pdf...\n",
      "KB_JB773_1918-11-30_01-00002.pdf a été enregistré avec succès.\n",
      "Téléchargement de KB_JB838_1887-12-28_01-00003.pdf...\n",
      "KB_JB838_1887-12-28_01-00003.pdf a été enregistré avec succès.\n",
      "Téléchargement de KB_JB230_1903-10-16_01-0002.pdf...\n",
      "KB_JB230_1903-10-16_01-0002.pdf a été enregistré avec succès.\n",
      "Téléchargement de KB_JB427_1933-01-04_01-00003.pdf...\n",
      "KB_JB427_1933-01-04_01-00003.pdf a été enregistré avec succès.\n",
      "Téléchargement de KB_JB555_1899-01-19_01-00003.pdf...\n",
      "KB_JB555_1899-01-19_01-00003.pdf a été enregistré avec succès.\n",
      "Téléchargement de KB_JB638_1902-12-20_01-00002.pdf...\n",
      "KB_JB638_1902-12-20_01-00002.pdf a été enregistré avec succès.\n",
      "Téléchargement de KB_JB773_1933-10-07_01-00007.pdf...\n",
      "KB_JB773_1933-10-07_01-00007.pdf a été enregistré avec succès.\n",
      "Téléchargement de KB_JB838_1911-08-03_01-00006.pdf...\n",
      "KB_JB838_1911-08-03_01-00006.pdf a été enregistré avec succès.\n",
      "Téléchargement de KB_JB230_1913-07-05_01-0001.pdf...\n",
      "KB_JB230_1913-07-05_01-0001.pdf a été enregistré avec succès.\n",
      "Téléchargement de KB_JB427_1949-07-18_01-00008.pdf...\n",
      "KB_JB427_1949-07-18_01-00008.pdf a été enregistré avec succès.\n",
      "Téléchargement de KB_JB555_1940-03-01_01-00004.pdf...\n",
      "KB_JB555_1940-03-01_01-00004.pdf a été enregistré avec succès.\n",
      "Téléchargement de KB_JB638_1946-07-18_01-00003.pdf...\n",
      "KB_JB638_1946-07-18_01-00003.pdf a été enregistré avec succès.\n",
      "Téléchargement de KB_JB773_1950-07-22_01-00010.pdf...\n",
      "KB_JB773_1950-07-22_01-00010.pdf a été enregistré avec succès.\n",
      "Téléchargement de KB_JB838_1943-09-04_01-00002.pdf...\n",
      "KB_JB838_1943-09-04_01-00002.pdf a été enregistré avec succès.\n",
      "Téléchargement de KB_JB258_1884-09-03_01-0003.pdf...\n",
      "KB_JB258_1884-09-03_01-0003.pdf a été enregistré avec succès.\n",
      "Téléchargement de KB_JB449_1846-05-30_01-00002.pdf...\n",
      "KB_JB449_1846-05-30_01-00002.pdf a été enregistré avec succès.\n",
      "Téléchargement de KB_JB567_1857-02-02_01-00003.pdf...\n",
      "KB_JB567_1857-02-02_01-00003.pdf a été enregistré avec succès.\n",
      "Téléchargement de KB_JB685_1894-05-14_01-0003.pdf...\n",
      "KB_JB685_1894-05-14_01-0003.pdf a été enregistré avec succès.\n",
      "Téléchargement de KB_JB835_1911-04-24_01-00004.pdf...\n",
      "KB_JB835_1911-04-24_01-00004.pdf a été enregistré avec succès.\n",
      "Téléchargement de KB_JB92_1860-02-09_01-00003.pdf...\n",
      "KB_JB92_1860-02-09_01-00003.pdf a été enregistré avec succès.\n",
      "Téléchargement de KB_JB258_1894-12-09_01-0003.pdf...\n",
      "KB_JB258_1894-12-09_01-0003.pdf a été enregistré avec succès.\n",
      "Téléchargement de KB_JB449_1912-01-04_01-00003.pdf...\n",
      "KB_JB449_1912-01-04_01-00003.pdf a été enregistré avec succès.\n",
      "Téléchargement de KB_JB567_1892-01-03_01-00005.pdf...\n",
      "KB_JB567_1892-01-03_01-00005.pdf a été enregistré avec succès.\n",
      "Téléchargement de KB_JB685_1903-01-18_01-0002.pdf...\n",
      "KB_JB685_1903-01-18_01-0002.pdf a été enregistré avec succès.\n",
      "Téléchargement de KB_JB835_1930-04-08_01-00006.pdf...\n",
      "KB_JB835_1930-04-08_01-00006.pdf a été enregistré avec succès.\n",
      "Téléchargement de KB_JB92_1873-02-06_01-00002.pdf...\n",
      "KB_JB92_1873-02-06_01-00002.pdf a été enregistré avec succès.\n",
      "Téléchargement de KB_JB258_1906-01-09_01-0002.pdf...\n",
      "KB_JB258_1906-01-09_01-0002.pdf a été enregistré avec succès.\n",
      "Téléchargement de KB_JB449_1947-08-29_01-00003.pdf...\n",
      "KB_JB449_1947-08-29_01-00003.pdf a été enregistré avec succès.\n",
      "Téléchargement de KB_JB567_1924-08-30_01-00003.pdf...\n",
      "KB_JB567_1924-08-30_01-00003.pdf a été enregistré avec succès.\n",
      "Téléchargement de KB_JB685_1913-06-07_01-0006.pdf...\n",
      "KB_JB685_1913-06-07_01-0006.pdf a été enregistré avec succès.\n",
      "Téléchargement de KB_JB835_1949-09-18_01-00004.pdf...\n",
      "KB_JB835_1949-09-18_01-00004.pdf a été enregistré avec succès.\n",
      "Téléchargement de KB_JB92_1885-09-29_01-00002.pdf...\n",
      "KB_JB92_1885-09-29_01-00002.pdf a été enregistré avec succès.\n",
      "Téléchargement de KB_JB421_1899-05-15_01-00003.pdf...\n",
      "KB_JB421_1899-05-15_01-00003.pdf a été enregistré avec succès.\n",
      "Téléchargement de KB_JB494_1853-10-30_01-0002.pdf...\n",
      "KB_JB494_1853-10-30_01-0002.pdf a été enregistré avec succès.\n",
      "Téléchargement de KB_JB572_1850-03-15_01-00003.pdf...\n",
      "KB_JB572_1850-03-15_01-00003.pdf a été enregistré avec succès.\n",
      "Téléchargement de KB_JB729_1895-10-08_01-00003.pdf...\n",
      "KB_JB729_1895-10-08_01-00003.pdf a été enregistré avec succès.\n",
      "Téléchargement de KB_JB837_1886-12-28_01-00002.pdf...\n",
      "KB_JB837_1886-12-28_01-00002.pdf a été enregistré avec succès.\n",
      "Téléchargement de KB_JB421_1926-10-29_01-00002.pdf...\n",
      "KB_JB421_1926-10-29_01-00002.pdf a été enregistré avec succès.\n",
      "Téléchargement de KB_JB494_1922-09-28_01-0005.pdf...\n",
      "KB_JB494_1922-09-28_01-0005.pdf a été enregistré avec succès.\n",
      "Téléchargement de KB_JB572_1927-07-20_01-00005.pdf...\n",
      "KB_JB572_1927-07-20_01-00005.pdf a été enregistré avec succès.\n",
      "Téléchargement de KB_JB729_1927-11-15_01-00004.pdf...\n",
      "KB_JB729_1927-11-15_01-00004.pdf a été enregistré avec succès.\n",
      "Téléchargement de KB_JB837_1925-01-01_01-00003.pdf...\n",
      "KB_JB837_1925-01-01_01-00003.pdf a été enregistré avec succès.\n",
      "Téléchargement de KB_JB421_1950-04-15_01-00004.pdf...\n",
      "KB_JB421_1950-04-15_01-00004.pdf a été enregistré avec succès.\n",
      "Téléchargement de KB_JB494_1939-12-08_01-0004.pdf...\n",
      "KB_JB494_1939-12-08_01-0004.pdf a été enregistré avec succès.\n",
      "Téléchargement de KB_JB572_1950-06-07_01-00004.pdf...\n",
      "KB_JB572_1950-06-07_01-00004.pdf a été enregistré avec succès.\n",
      "Téléchargement de KB_JB729_1939-10-31_01-00006.pdf...\n",
      "KB_JB729_1939-10-31_01-00006.pdf a été enregistré avec succès.\n",
      "Téléchargement de KB_JB837_1950-12-01_01-00007.pdf...\n",
      "KB_JB837_1950-12-01_01-00007.pdf a été enregistré avec succès.\n"
     ]
    }
   ],
   "source": [
    "for pdf_url in pdf_files:\n",
    "    filename = pdf_url.split(\"/\")[-1]  # Extraire le nom du fichier\n",
    "    print(f\"Téléchargement de {filename}...\")\n",
    "\n",
    "    # Envoyer la requête pour télécharger les fichiers .pdf\n",
    "    response = requests.get(pdf_url)\n",
    "\n",
    "   # Enregistrer les fichiers PDF sur disque\n",
    "    with open(os.path.join(tp1_path, filename), 'wb') as f:\n",
    "        f.write(response.content)\n",
    "    print(f\"{filename} a été enregistré avec succès.\")"
   ]
  },
  {
   "cell_type": "code",
   "execution_count": 5,
   "metadata": {},
   "outputs": [
    {
     "name": "stdout",
     "output_type": "stream",
     "text": [
      "Tous les fichiers ont été enregistré sur le disque avec succès.\n"
     ]
    }
   ],
   "source": [
    " print(\"Tous les fichiers ont été enregistré sur le disque avec succès.\")"
   ]
  }
 ],
 "metadata": {
  "kernelspec": {
   "display_name": "tac_venv",
   "language": "python",
   "name": "python3"
  },
  "language_info": {
   "codemirror_mode": {
    "name": "ipython",
    "version": 3
   },
   "file_extension": ".py",
   "mimetype": "text/x-python",
   "name": "python",
   "nbconvert_exporter": "python",
   "pygments_lexer": "ipython3",
   "version": "3.12.7"
  }
 },
 "nbformat": 4,
 "nbformat_minor": 2
}
